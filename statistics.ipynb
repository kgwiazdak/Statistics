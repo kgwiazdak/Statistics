{
 "cells": [
  {
   "cell_type": "markdown",
   "id": "c5abfefe",
   "metadata": {},
   "source": [
    "## Wybrane parametry fizjologiczne w chorobach serca w zależności od płci i wieku"
   ]
  },
  {
   "cell_type": "markdown",
   "id": "c59aad71",
   "metadata": {},
   "source": [
    "Dane zaczerpnięto z bazy naukowej pobranej ze strony Kaggle ze zbioru \"Heart Disease UCI\" zawierającej informacje o osobach z chorobami serca i osobach bez takich chorób.\n",
    "Analizie poddano maksymalną częstość akcji serca, spoczynkowe ciśnienie krwi oraz stężenie cholesterolu w surowicy krwi. \n",
    "Celem analizy było: \n",
    "<ol>\n",
    "<li>określenie statystyk badanych parametrów w grupie osób z chorobami serca i w grupie kontrolnej, </li>\n",
    "<li>różnic badanych parametrów w zależności od płci w grupie osób z chorobami serca i w grupie kontrolnej, </li>\n",
    "<li>korelacji badanych parametrów w zależności od wieku, </li>\n",
    "<li>prawdopodobieństwa występowania chorób serca w zależności od badanych parametrów. </li>\n",
    "\n",
    "</ol>\n",
    "\n",
    "\n"
   ]
  },
  {
   "cell_type": "markdown",
   "id": "4f3560f7",
   "metadata": {},
   "source": [
    "Czyszczenie danych\n",
    "\n",
    "Dane dla osób w wieku 29-33 lata oraz 71-75 lat odrzucono ponieważ nie było dla tych kategorii wiekowych żadnych danych lub były dane dotyczące jednej osoby. W ten sposób uzyskano zbiór danych dla osób z przedziału wiekowego 34-71 lat dla których było co najmniej 2 dane w każdej kategorii wiekowej. Łącznie analizie poddano 126 danych osób z chorobami serca i 173 danych osób grupy kontrolnej. Analizowano 31 kobiet  i 95 mężczyzn z chorobami serca.\n",
    "\n"
   ]
  },
  {
   "cell_type": "code",
   "execution_count": 29,
   "id": "db6e0e9f",
   "metadata": {},
   "outputs": [],
   "source": [
    "import sqlite3\n",
    "import pandas as pd\n",
    "import seaborn as sns\n",
    "import csv\n",
    "import matplotlib.pyplot as plt\n",
    "from statistics import mean, median\n",
    "from numpy import quantile\n",
    "from numpy import var, std\n",
    "from scipy.stats import mannwhitneyu\n",
    "from scipy.stats import spearmanr\n",
    "from scipy.stats import shapiro"
   ]
  },
  {
   "cell_type": "code",
   "execution_count": 58,
   "id": "7a1696c1",
   "metadata": {},
   "outputs": [
    {
     "ename": "OperationalError",
     "evalue": "table heart already exists",
     "output_type": "error",
     "traceback": [
      "\u001b[0;31m---------------------------------------------------------------------------\u001b[0m",
      "\u001b[0;31mOperationalError\u001b[0m                          Traceback (most recent call last)",
      "\u001b[0;32m/tmp/ipykernel_12567/3692631493.py\u001b[0m in \u001b[0;36m<module>\u001b[0;34m\u001b[0m\n\u001b[1;32m      2\u001b[0m \u001b[0mcur\u001b[0m \u001b[0;34m=\u001b[0m \u001b[0mcon\u001b[0m\u001b[0;34m.\u001b[0m\u001b[0mcursor\u001b[0m\u001b[0;34m(\u001b[0m\u001b[0;34m)\u001b[0m\u001b[0;34m\u001b[0m\u001b[0;34m\u001b[0m\u001b[0m\n\u001b[1;32m      3\u001b[0m \u001b[0;34m\u001b[0m\u001b[0m\n\u001b[0;32m----> 4\u001b[0;31m cur.execute('''CREATE TABLE heart\n\u001b[0m\u001b[1;32m      5\u001b[0m                (age, sex, trestbps, chol, thalach, ca)''')\n\u001b[1;32m      6\u001b[0m \u001b[0;34m\u001b[0m\u001b[0m\n",
      "\u001b[0;31mOperationalError\u001b[0m: table heart already exists"
     ]
    }
   ],
   "source": [
    "con = sqlite3.connect(\"data.db\")\n",
    "cur = con.cursor()\n",
    "\n",
    "cur.execute('''CREATE TABLE heart\n",
    "               (age, sex, trestbps, chol, thalach, ca)''')\n",
    "\n",
    "a_file = open(r\"/home/kgwiazda/Desktop/heart.csv\")\n",
    "rows = csv.reader(a_file)\n",
    "\n",
    "\n",
    "arr = list(rows)\n",
    "for i in range(1, len(arr)):\n",
    "    if 34<=int(arr[i][0])<=71:\n",
    "        cur.execute(f\"INSERT INTO heart VALUES ({int(arr[i][0])},{int(arr[i][1])}, {int(arr[i][3])}, {int(arr[i][4])}, {int(arr[i][7])}, {int(arr[i][11])})\")\n",
    "\n",
    "rows = list(cur.execute(\"select * from heart\"))\n",
    "\n",
    "con.commit()\n",
    "con.close()"
   ]
  },
  {
   "cell_type": "markdown",
   "id": "f0f67eae",
   "metadata": {},
   "source": [
    "Badanie rozkładu danych\n",
    "\n",
    "Zbadano rozkład badanych parametrów testem Shapiro-Wilka w grupie osób z chorobami serca i w grupie kontrolnej.\n"
   ]
  },
  {
   "cell_type": "code",
   "execution_count": 31,
   "id": "5d1a3444",
   "metadata": {},
   "outputs": [
    {
     "name": "stdout",
     "output_type": "stream",
     "text": [
      "Rozkład nie jest normalny\n",
      "Rozkład nie jest normalny\n",
      "Rozkład nie jest normalny\n",
      "Rozkład nie jest normalny\n",
      "Rozkład nie jest normalny\n",
      "Rozkład nie jest normalny\n"
     ]
    }
   ],
   "source": [
    "def get_data(n, param=-1):\n",
    "    if param==-1:\n",
    "        data0 = [row[n] for row in rows if row[5] == 0]\n",
    "        data1234 = [row[n] for row in rows if row[5] != 0]\n",
    "        return data0, data1234\n",
    "    data0 = [row[n] for row in rows if row[5] == 0 and row[1] == param]\n",
    "    data1234 = [row[n] for row in rows if row[5] != 0 and row[1] == param]\n",
    "    return data0, data1234\n",
    "\n",
    "\n",
    "age = {i:[] for i in range(34, 72)}\n",
    "\n",
    "for row in rows:\n",
    "    if row[5]==0:continue\n",
    "    age[row[0]].append(row)\n",
    "\n",
    "\n",
    "trestbps0, trestbps1234 = get_data(2)\n",
    "chol0, chol1234 = get_data(3)\n",
    "thalach0, thalach1234 = get_data(4)\n",
    "\n",
    "trestbps_men0, trestbps_men1234 = get_data(2, 1)\n",
    "chol_men0, chol_men1234 = get_data(3, 1)\n",
    "thalach_men0, thalach_men1234 = get_data(4, 1)\n",
    "\n",
    "trestbps_women0, trestbps_women1234 = get_data(2, 0)\n",
    "chol_women0, chol_women1234 = get_data(3, 0)\n",
    "thalach_women0, thalach_women1234 = get_data(4, 0)\n",
    "\n",
    "_, p1 = shapiro(trestbps0)\n",
    "_, p2 = shapiro(trestbps1234)\n",
    "_, p3 = shapiro(chol0)\n",
    "_, p4 = shapiro(chol1234)\n",
    "_, p5 = shapiro(thalach0)\n",
    "_, p6 = shapiro(thalach1234)\n",
    "\n",
    "E = 0.05\n",
    "def normal(p):\n",
    "    if p<=E: print(\"Rozkład nie jest normalny\")\n",
    "    else: print(\"Rozkład jest normalny\")\n",
    "\n",
    "        \n",
    "normal(p1)\n",
    "normal(p2)\n",
    "normal(p3)\n",
    "normal(p4)\n",
    "normal(p5)\n",
    "normal(p6)"
   ]
  },
  {
   "cell_type": "markdown",
   "id": "7da45d00",
   "metadata": {},
   "source": [
    "<ul>\n",
    "<li>Wynik testu pokazał, że rozkład danych maksymalnej częstości akcji serca nie jest normalny zarówno w grupie osób z chorobami serca jak i w grupie kontrolnej. </li>\n",
    "<li>Wynik testu pokazał, że  rozkład danych spoczynkowego ciśnienia krwi nie jest normalny zarówno w grupie osób z chorobami serca jak i w grupie kontrolnej. </li>\n",
    "<li>Wynik testu pokazał, że  rozkład danych stężenia cholesterolu w surowicy krwi nie jest normalny zarówno w grupie osób z chorobami serca jak i w grupie kontrolnej. </li>\n",
    "</ul>\n",
    "W związku z tym w dalszej analizę zastosowano statystyki i testy nieparametryczne.\n"
   ]
  },
  {
   "cell_type": "code",
   "execution_count": 32,
   "id": "eb7239c2",
   "metadata": {},
   "outputs": [
    {
     "data": {
      "image/png": "[encoded data removed]",
      "text/plain": [
       "<Figure size 432x288 with 1 Axes>"
      ]
     },
     "metadata": {
      "needs_background": "light"
     },
     "output_type": "display_data"
    }
   ],
   "source": [
    "thalach = [x[4] for x in rows]\n",
    "\n",
    "n = len(thalach)\n",
    "arr = [i for i in range(n)]\n",
    "\n",
    "plt.scatter(arr, thalach)\n",
    "plt.title(\"Maksymalne tętno\")\n",
    "plt.show()"
   ]
  },
  {
   "cell_type": "code",
   "execution_count": 33,
   "id": "6dcf1d90",
   "metadata": {},
   "outputs": [
    {
     "data": {
      "image/png": "[encoded data removed]",
      "text/plain": [
       "<Figure size 432x288 with 1 Axes>"
      ]
     },
     "metadata": {
      "needs_background": "light"
     },
     "output_type": "display_data"
    }
   ],
   "source": [
    "trestbps = [x[2] for x in rows]\n",
    "\n",
    "n = len(trestbps)\n",
    "arr = [i for i in range(n)]\n",
    "\n",
    "plt.scatter(arr, trestbps)\n",
    "plt.title(\"Spoczynkowe ciśnienie krwi\")\n",
    "plt.show()"
   ]
  },
  {
   "cell_type": "code",
   "execution_count": 34,
   "id": "219cba68",
   "metadata": {},
   "outputs": [
    {
     "data": {
      "image/png": "[encoded data removed]",
      "text/plain": [
       "<Figure size 432x288 with 1 Axes>"
      ]
     },
     "metadata": {
      "needs_background": "light"
     },
     "output_type": "display_data"
    }
   ],
   "source": [
    "chol = [x[3] for x in rows]\n",
    "\n",
    "n = len(chol)\n",
    "arr = [i for i in range(n)]\n",
    "\n",
    "plt.scatter(arr, chol)\n",
    "plt.title(\"Spoczynkowe ciśnienie krwi\")\n",
    "plt.show()"
   ]
  },
  {
   "cell_type": "markdown",
   "id": "1b31de44",
   "metadata": {},
   "source": [
    "Statystyki opisowe\n",
    "\n",
    "Określono medianę, kwartyle 1 i 3 oraz zakres dla badanych parametrów zarówno dla osób chorych na serce jak i dla grupy kontrolnej. Podano dodatkowo średnie, wariancje i odchylenie standardowe, które są statystykami dla danych z rozkładem normalnym.\n"
   ]
  },
  {
   "cell_type": "code",
   "execution_count": 35,
   "id": "87e02ce1",
   "metadata": {},
   "outputs": [],
   "source": [
    "def get_min_max(data0, data1234):\n",
    "    min_data0, max_data0 = min(data0), max(data0)\n",
    "    min_data1234, max_data1234 = min(data1234), max(data1234)\n",
    "    return min_data0, max_data0, min_data1234, max_data1234\n",
    "\n",
    "def get_mean(data0, data1234):\n",
    "    return mean(data0), mean(data1234)\n",
    "\n",
    "def get_median(data0, data1234):\n",
    "    return median(data0), median(data1234)\n",
    "\n",
    "def get_quantile(data0, data1234, param):\n",
    "    return quantile(data0, param), quantile(data1234, param)\n",
    "\n",
    "def get_var(data0, data1234):\n",
    "    return var(data0), var(data1234)\n",
    "\n",
    "def get_std(data0, data1234):\n",
    "    return std(data0), std(data1234)\n",
    "\n",
    "\n",
    "#min max\n",
    "min_thalach0, max_thalach0, min_thalach1234, max_thalach1234 = \\\n",
    "    get_min_max(thalach0, thalach1234)\n",
    "min_chol0, max_chol0, min_chol1234, max_chol1234 = \\\n",
    "    get_min_max(chol0, chol1234)\n",
    "min_trestbps0, max_trestbps0, min_trestbps1234, max_trestbps1234 = \\\n",
    "    get_min_max(trestbps0, trestbps1234)\n",
    "\n",
    "#mean\n",
    "mean_thalach0, mean_thalach1234 = get_mean(thalach0, thalach1234)\n",
    "mean_chol0, mean_chol1234 = get_mean(chol0, chol1234)\n",
    "mean_trestbps0, mean_trestbps1234 = get_mean(trestbps0, trestbps1234)\n",
    "\n",
    "#median\n",
    "median_thalach0, median_thalach1234 = get_median(thalach0, thalach1234)\n",
    "median_chol0, median_chol1234 = get_median(chol0, chol1234)\n",
    "median_trestbps0, median_trestbps1234 = get_median(trestbps0, trestbps1234)\n",
    "\n",
    "#quantiles\n",
    "quantile1_thalach0, quantile1_thalach1234 = get_quantile(thalach0, thalach1234, 0.25)\n",
    "quantile1_chol0, quantile1_chol1234 = get_quantile(chol0, chol1234, 0.25)\n",
    "quantile1_trestbps0, quantile1_trestbps1234 = get_quantile(trestbps0, trestbps1234, 0.25)\n",
    "quantile3_thalach0, quantile3_thalach1234 = get_quantile(thalach0, thalach1234,0.75)\n",
    "quantile3_chol0, quantile3_chol1234 = get_quantile(chol0, chol1234,0.75)\n",
    "quantile3_trestbps0, quantile3_trestbps1234 = get_quantile(trestbps0, trestbps1234,0.75)\n",
    "\n",
    "#var\n",
    "var_thalach0, var_thalach1234 = get_var(thalach0, thalach1234)\n",
    "var_chol0, var_chol1234 = get_var(chol0, chol1234)\n",
    "var_trestbps0, var_trestbps1234 = get_var(trestbps0, trestbps1234)\n",
    "\n",
    "#std\n",
    "std_thalach0, std_thalach1234 = get_std(thalach0, thalach1234)\n",
    "std_chol0, std_chol1234 = get_std(chol0, chol1234)\n",
    "std_trestbps0, std_trestbps1234 = get_std(trestbps0, trestbps1234)\n",
    "\n"
   ]
  },
  {
   "cell_type": "code",
   "execution_count": 36,
   "id": "536f14a3",
   "metadata": {},
   "outputs": [
    {
     "name": "stdout",
     "output_type": "stream",
     "text": [
      "Średnie maksymalne tętno u grupy kontrolnej: 154.94219653179192\n",
      "Średnie maksymalne tętno u osób z chorobami serca: 142.35714285714286\n",
      "Średni cholesterol w surowicy krwi w mg/dl u grupy kontrolnej: 243.1849710982659\n",
      "Średni cholesterol w surowicy krwi w mg/dl u osób z chorobami serca: 250.5793650793651\n",
      "Średnie spoczynkowe ciśnienie krwi u grupy kontrolnej: 130.7514450867052\n",
      "Średnie spoczynkowe ciśnienie krwi u osób z chorobami serca: 132.9126984126984\n",
      "\n",
      "Wariancja maksymalnego tętno u grupy kontrolnej: 443.54579170704\n",
      "Wariancja maksymalnego tętno u osób z chorobami serca: 518.3883219954648\n",
      "Wariancja cholesterolu w surowicy krwi w mg/dl u grupy kontrolnej: 2782.8906411841353\n",
      "Wariancja cholesterolu w surowicy krwi w mg/dl u osób z chorobami serca: 2522.307193247669\n",
      "Wariancja spoczynkowego ciśnienie krwi u grupy kontrolnej: 296.4411106284875\n",
      "Wariancja spoczynkowego ciśnienie krwi u osób z chorobami serca: 325.50825144872755\n",
      "\n",
      "Odchylenie standardowe maksymalnego tętno u grupy kontrolnej: 21.060526862047872\n",
      "Odchylenie standardowe maksymalnego tętno u osób z chorobami serca: 22.768142699734312\n",
      "Odchylenie standardowe cholesterolu w surowicy krwi w mg/dl u grupy kontrolnej: 52.7531102512841\n",
      "Odchylenie standardowe cholesterolu w surowicy krwi w mg/dl u osób z chorobami serca: 50.22257652936246\n",
      "Odchylenie standardowe spoczynkowego ciśnienie krwi u grupy kontrolnej: 17.217465278852387\n",
      "Odchylenie standardowe spoczynkowego ciśnienie krwi u osób z chorobami serca: 18.041847229392214\n"
     ]
    }
   ],
   "source": [
    "print(f\"Średnie maksymalne tętno u grupy kontrolnej: {mean_thalach0}\")\n",
    "print(f\"Średnie maksymalne tętno u osób z chorobami serca: {mean_thalach1234}\")\n",
    "\n",
    "print(f\"Średni cholesterol w surowicy krwi w mg/dl u grupy kontrolnej: {mean_chol0}\")\n",
    "print(f\"Średni cholesterol w surowicy krwi w mg/dl u osób z chorobami serca: {mean_chol1234}\")\n",
    "\n",
    "print(f\"Średnie spoczynkowe ciśnienie krwi u grupy kontrolnej: {mean_trestbps0}\")\n",
    "print(f\"Średnie spoczynkowe ciśnienie krwi u osób z chorobami serca: {mean_trestbps1234}\")\n",
    "\n",
    "print()\n",
    "\n",
    "print(f\"Wariancja maksymalnego tętno u grupy kontrolnej: {var_thalach0}\")\n",
    "print(f\"Wariancja maksymalnego tętno u osób z chorobami serca: {var_thalach1234}\")\n",
    "\n",
    "print(f\"Wariancja cholesterolu w surowicy krwi w mg/dl u grupy kontrolnej: {var_chol0}\")\n",
    "print(f\"Wariancja cholesterolu w surowicy krwi w mg/dl u osób z chorobami serca: {var_chol1234}\")\n",
    "\n",
    "print(f\"Wariancja spoczynkowego ciśnienie krwi u grupy kontrolnej: {var_trestbps0}\")\n",
    "print(f\"Wariancja spoczynkowego ciśnienie krwi u osób z chorobami serca: {var_trestbps1234}\")\n",
    "\n",
    "print()\n",
    "\n",
    "print(f\"Odchylenie standardowe maksymalnego tętno u grupy kontrolnej: {std_thalach0}\")\n",
    "print(f\"Odchylenie standardowe maksymalnego tętno u osób z chorobami serca: {std_thalach1234}\")\n",
    "\n",
    "print(f\"Odchylenie standardowe cholesterolu w surowicy krwi w mg/dl u grupy kontrolnej: {std_chol0}\")\n",
    "print(f\"Odchylenie standardowe cholesterolu w surowicy krwi w mg/dl u osób z chorobami serca: {std_chol1234}\")\n",
    "\n",
    "print(f\"Odchylenie standardowe spoczynkowego ciśnienie krwi u grupy kontrolnej: {std_trestbps0}\")\n",
    "print(f\"Odchylenie standardowe spoczynkowego ciśnienie krwi u osób z chorobami serca: {std_trestbps1234}\")\n"
   ]
  },
  {
   "cell_type": "code",
   "execution_count": 37,
   "id": "c16b96f3",
   "metadata": {},
   "outputs": [
    {
     "data": {
      "image/png": "[encoded data removed]",
      "text/plain": [
       "<Figure size 432x288 with 1 Axes>"
      ]
     },
     "metadata": {
      "needs_background": "light"
     },
     "output_type": "display_data"
    }
   ],
   "source": [
    "data = [thalach_men1234, thalach_women1234]\n",
    "fig, ax = plt.subplots()\n",
    "ax.boxplot(data)\n",
    "plt.title(\"Maksymalne tętno w uderzeniach na minutę\")\n",
    "plt.xticks([1,2], [\"mężczyźni\", \"kobiety\"])\n",
    "plt.show()"
   ]
  },
  {
   "cell_type": "code",
   "execution_count": 38,
   "id": "b91397e1",
   "metadata": {},
   "outputs": [
    {
     "data": {
      "image/png": "[encoded data removed]",
      "text/plain": [
       "<Figure size 432x288 with 1 Axes>"
      ]
     },
     "metadata": {
      "needs_background": "light"
     },
     "output_type": "display_data"
    }
   ],
   "source": [
    "data = [chol_men1234, chol_women1234]\n",
    "fig, ax = plt.subplots()\n",
    "ax.boxplot(data)\n",
    "plt.title(\"Cholesterol w surowicy krwi w mg/dl\")\n",
    "plt.xticks([1,2], [\"mężczyźni\", \"kobiety\"])\n",
    "plt.show()"
   ]
  },
  {
   "cell_type": "code",
   "execution_count": 39,
   "id": "9537be75",
   "metadata": {},
   "outputs": [
    {
     "data": {
      "image/png": "[encoded data removed]",
      "text/plain": [
       "<Figure size 432x288 with 1 Axes>"
      ]
     },
     "metadata": {
      "needs_background": "light"
     },
     "output_type": "display_data"
    }
   ],
   "source": [
    "data = [trestbps_men1234, trestbps_women1234]\n",
    "fig, ax = plt.subplots()\n",
    "ax.boxplot(data)\n",
    "plt.title(\"Spoczynkowe ciśnienie krwi w mmHg\")\n",
    "plt.xticks([1,2], [\"mężczyźni\", \"kobiety\"])\n",
    "plt.show()"
   ]
  },
  {
   "cell_type": "markdown",
   "id": "bd666ea4",
   "metadata": {},
   "source": [
    "Określono medianę, kwartyle 1 i 3 oraz zakres dla badanych parametrów zarówno dla kobiet i mężczyzn z chorobami serca. Podano dodatkowo średnie, wariancje i odchylenie standardowe, które są statystykami dla danych z rozkładem normalnym."
   ]
  },
  {
   "cell_type": "code",
   "execution_count": 40,
   "id": "3ef4d96d",
   "metadata": {},
   "outputs": [],
   "source": [
    "#min max\n",
    "min_thalach_men0, max_thalach_men0, min_thalach_men1234, max_thalach_men1234 = \\\n",
    "    get_min_max(thalach_men0, thalach_men1234)\n",
    "min_chol_men0, max_chol_men0, min_chol_men1234, max_chol_men1234 = \\\n",
    "    get_min_max(chol_men0, chol_men1234)\n",
    "min_trestbps_men0, max_trestbps_men0, min_trestbps_men1234, max_trestbps_men1234 = \\\n",
    "    get_min_max(trestbps_men0, trestbps_men1234)\n",
    "\n",
    "#mean\n",
    "mean_thalach_men0, mean_thalach_men1234 = get_mean(thalach_men0, thalach_men1234)\n",
    "mean_chol_men0, mean_chol_men1234 = get_mean(chol_men0, chol_men1234)\n",
    "mean_trestbps_men0, mean_trestbps_men1234 = get_mean(trestbps_men0, trestbps_men1234)\n",
    "\n",
    "#median\n",
    "median_thalach_men0, median_thalach_men1234 = get_median(thalach_men0, thalach_men1234)\n",
    "median_chol_men0, median_chol_men1234 = get_median(chol_men0, chol_men1234)\n",
    "median_trestbps_men0, median_trestbps_men1234 = get_median(trestbps_men0, trestbps_men1234)\n",
    "\n",
    "#quantiles\n",
    "quantile1_thalach_men0, quantile1_thalach_men1234 = get_quantile(thalach_men0, thalach_men1234, 0.25)\n",
    "quantile1_chol_men0, quantile1_chol_men1234 = get_quantile(chol_men0, chol_men1234, 0.25)\n",
    "quantile1_trestbps_men0, quantile1_trestbps_men1234 = get_quantile(trestbps_men0, trestbps_men1234, 0.25)\n",
    "quantile3_thalach_men0, quantile3_thalach_men1234 = get_quantile(thalach_men0, thalach_men1234,0.75)\n",
    "quantile3_chol_men0, quantile3_chol_men1234 = get_quantile(chol_men0, chol_men1234,0.75)\n",
    "quantile3_trestbps_men0, quantile3_trestbps_men1234 = get_quantile(trestbps_men0, trestbps_men1234,0.75)\n",
    "\n",
    "#var\n",
    "var_thalach_men0, var_thalach_men1234 = get_var(thalach_men0, thalach_men1234)\n",
    "var_chol_men0, var_chol_men1234 = get_var(chol_men0, chol_men1234)\n",
    "var_trestbps_men0, var_trestbps_men1234 = get_var(trestbps_men0, trestbps_men1234)\n",
    "\n",
    "#std\n",
    "std_thalach_men0, std_thalach_men1234 = get_std(thalach_men0, thalach_men1234)\n",
    "std_chol_men0, std_chol_men1234 = get_std(chol_men0, chol_men1234)\n",
    "std_trestbps_men0, std_trestbps_men1234 = get_std(trestbps_men0, trestbps_men1234)\n",
    "\n"
   ]
  },
  {
   "cell_type": "code",
   "execution_count": 41,
   "id": "527517dd",
   "metadata": {},
   "outputs": [
    {
     "name": "stdout",
     "output_type": "stream",
     "text": [
      "Średnie maksymalne tętno u grupy kontrolnej: 155.93636363636364\n",
      "Średnie maksymalne tętno u mężczyzn z chorobami serca: 140.18947368421053\n",
      "Średni cholesterol w surowicy krwi w mg/dl u grupy kontrolnej: 235.15454545454546\n",
      "Średni cholesterol w surowicy krwi w mg/dl u mężczyzn z chorobami serca: 243.76842105263157\n",
      "Średnie spoczynkowe ciśnienie krwi u grupy kontrolnej: 131.04545454545453\n",
      "Średnie spoczynkowe ciśnienie krwi u mężczyzn z chorobami serca: 130.90526315789472\n",
      "\n",
      "Wariancja maksymalnego tętno u grupy kontrolnej: 476.9868595041322\n",
      "Wariancja maksymalnego tętno u mężczyzn z chorobami serca: 545.6904155124653\n",
      "Wariancja cholesterolu w surowicy krwi w mg/dl u grupy kontrolnej: 1640.2761157024795\n",
      "Wariancja cholesterolu w surowicy krwi w mg/dl u mężczyzn z chorobami serca: 1972.6200554016618\n",
      "Wariancja spoczynkowego ciśnienie krwi u grupy kontrolnej: 292.78884297520665\n",
      "Wariancja spoczynkowego ciśnienie krwi u mężczyzn z chorobami serca: 262.31734072022164\n",
      "\n",
      "Odchylenie standardowe maksymalnego tętno u grupy kontrolnej: 21.840028834782526\n",
      "Odchylenie standardowe maksymalnego tętno u mężczyzn z chorobami serca: 23.360017455311656\n",
      "Odchylenie standardowe cholesterolu w surowicy krwi w mg/dl u grupy kontrolnej: 40.50032241479664\n",
      "Odchylenie standardowe cholesterolu w surowicy krwi w mg/dl u mężczyzn z chorobami serca: 44.414187546342234\n",
      "Odchylenie standardowe spoczynkowego ciśnienie krwi u grupy kontrolnej: 17.111073694400556\n",
      "Odchylenie standardowe spoczynkowego ciśnienie krwi u mężczyzn z chorobami serca: 16.19621377730677\n"
     ]
    }
   ],
   "source": [
    "print(f\"Średnie maksymalne tętno u grupy kontrolnej: {mean_thalach_men0}\")\n",
    "print(f\"Średnie maksymalne tętno u mężczyzn z chorobami serca: {mean_thalach_men1234}\")\n",
    "\n",
    "print(f\"Średni cholesterol w surowicy krwi w mg/dl u grupy kontrolnej: {mean_chol_men0}\")\n",
    "print(f\"Średni cholesterol w surowicy krwi w mg/dl u mężczyzn z chorobami serca: {mean_chol_men1234}\")\n",
    "\n",
    "print(f\"Średnie spoczynkowe ciśnienie krwi u grupy kontrolnej: {mean_trestbps_men0}\")\n",
    "print(f\"Średnie spoczynkowe ciśnienie krwi u mężczyzn z chorobami serca: {mean_trestbps_men1234}\")\n",
    "\n",
    "print()\n",
    "\n",
    "print(f\"Wariancja maksymalnego tętno u grupy kontrolnej: {var_thalach_men0}\")\n",
    "print(f\"Wariancja maksymalnego tętno u mężczyzn z chorobami serca: {var_thalach_men1234}\")\n",
    "\n",
    "print(f\"Wariancja cholesterolu w surowicy krwi w mg/dl u grupy kontrolnej: {var_chol_men0}\")\n",
    "print(f\"Wariancja cholesterolu w surowicy krwi w mg/dl u mężczyzn z chorobami serca: {var_chol_men1234}\")\n",
    "\n",
    "print(f\"Wariancja spoczynkowego ciśnienie krwi u grupy kontrolnej: {var_trestbps_men0}\")\n",
    "print(f\"Wariancja spoczynkowego ciśnienie krwi u mężczyzn z chorobami serca: {var_trestbps_men1234}\")\n",
    "\n",
    "print()\n",
    "\n",
    "print(f\"Odchylenie standardowe maksymalnego tętno u grupy kontrolnej: {std_thalach_men0}\")\n",
    "print(f\"Odchylenie standardowe maksymalnego tętno u mężczyzn z chorobami serca: {std_thalach_men1234}\")\n",
    "\n",
    "print(f\"Odchylenie standardowe cholesterolu w surowicy krwi w mg/dl u grupy kontrolnej: {std_chol_men0}\")\n",
    "print(f\"Odchylenie standardowe cholesterolu w surowicy krwi w mg/dl u mężczyzn z chorobami serca: {std_chol_men1234}\")\n",
    "\n",
    "print(f\"Odchylenie standardowe spoczynkowego ciśnienie krwi u grupy kontrolnej: {std_trestbps_men0}\")\n",
    "print(f\"Odchylenie standardowe spoczynkowego ciśnienie krwi u mężczyzn z chorobami serca: {std_trestbps_men1234}\")"
   ]
  },
  {
   "cell_type": "code",
   "execution_count": 42,
   "id": "9e52128b",
   "metadata": {},
   "outputs": [],
   "source": [
    "#min max\n",
    "min_thalach_women0, max_thalach_women0, min_thalach_women1234, max_thalach_women1234 = \\\n",
    "    get_min_max(thalach_women0, thalach_women1234)\n",
    "min_chol_women0, max_chol_women0, min_chol_women1234, max_chol_women1234 = \\\n",
    "    get_min_max(chol_women0, chol_women1234)\n",
    "min_trestbps_women0, max_trestbps_women0, min_trestbps_women1234, max_trestbps_women1234 = \\\n",
    "    get_min_max(trestbps_women0, trestbps_women1234)\n",
    "\n",
    "#mean\n",
    "mean_thalach_women0, mean_thalach_women1234 = get_mean(thalach_women0, thalach_women1234)\n",
    "mean_chol_women0, mean_chol_women1234 = get_mean(chol_women0, chol_women1234)\n",
    "mean_trestbps_women0, mean_trestbps_women1234 = get_mean(trestbps_women0, trestbps_women1234)\n",
    "\n",
    "#median\n",
    "median_thalach_women0, median_thalach_women1234 = get_median(thalach_women0, thalach_women1234)\n",
    "median_chol_women0, median_chol_women1234 = get_median(chol_women0, chol_women1234)\n",
    "median_trestbps_women0, median_trestbps_women1234 = get_median(trestbps_women0, trestbps_women1234)\n",
    "\n",
    "#quantiles\n",
    "quantile1_thalach_women0, quantile1_thalach_women1234 = get_quantile(thalach_women0, thalach_women1234, 0.25)\n",
    "quantile1_chol_women0, quantile1_chol_women1234 = get_quantile(chol_women0, chol_women1234, 0.25)\n",
    "quantile1_trestbps_women0, quantile1_trestbps_women1234 = get_quantile(trestbps_women0, trestbps_women1234, 0.25)\n",
    "quantile3_thalach_women0, quantile3_thalach_women1234 = get_quantile(thalach_women0, thalach_women1234,0.75)\n",
    "quantile3_chol_women0, quantile3_chol_women1234 = get_quantile(chol_women0, chol_women1234,0.75)\n",
    "quantile3_trestbps_women0, quantile3_trestbps_women1234 = get_quantile(trestbps_women0, trestbps_women1234,0.75)\n",
    "\n",
    "#var\n",
    "var_thalach_women0, var_thalach_women1234 = get_var(thalach_women0, thalach_women1234)\n",
    "var_chol_women0, var_chol_women1234 = get_var(chol_women0, chol_women1234)\n",
    "var_trestbps_women0, var_trestbps_women1234 = get_var(trestbps_women0, trestbps_women1234)\n",
    "\n",
    "#std\n",
    "std_thalach_women0, std_thalach_women1234 = get_std(thalach_women0, thalach_women1234)\n",
    "std_chol_women0, std_chol_women1234 = get_std(chol_women0, chol_women1234)\n",
    "std_trestbps_women0, std_trestbps_women1234 = get_std(trestbps_women0, trestbps_women1234)\n",
    "\n"
   ]
  },
  {
   "cell_type": "code",
   "execution_count": 43,
   "id": "e2442abf",
   "metadata": {},
   "outputs": [
    {
     "name": "stdout",
     "output_type": "stream",
     "text": [
      "Średnie maksymalne tętno u grupy kontrolnej: 153.20634920634922\n",
      "Średnie maksymalne tętno u kobiet z chorobami serca: 149\n",
      "Średni cholesterol w surowicy krwi w mg/dl u grupy kontrolnej: 257.2063492063492\n",
      "Średni cholesterol w surowicy krwi w mg/dl u kobiet z chorobami serca: 271.4516129032258\n",
      "Średnie spoczynkowe ciśnienie krwi u grupy kontrolnej: 130.23809523809524\n",
      "Średnie spoczynkowe ciśnienie krwi u kobiet z chorobami serca: 139.06451612903226\n",
      "\n",
      "Wariancja maksymalnego tętno u grupy kontrolnej: 380.41773746535654\n",
      "Wariancja maksymalnego tętno u kobiet z chorobami serca: 376.19354838709677\n",
      "Wariancja cholesterolu w surowicy krwi w mg/dl u grupy kontrolnej: 4468.735197782816\n",
      "Wariancja cholesterolu w surowicy krwi w mg/dl u kobiet z chorobami serca: 3629.0218522372534\n",
      "Wariancja spoczynkowego ciśnienie krwi u grupy kontrolnej: 302.4036281179138\n",
      "Wariancja spoczynkowego ciśnienie krwi u kobiet z chorobami serca: 468.9635796045786\n",
      "\n",
      "Odchylenie standardowe maksymalnego tętno u grupy kontrolnej: 19.504300486440332\n",
      "Odchylenie standardowe maksymalnego tętno u kobiet z chorobami serca: 19.395709535541535\n",
      "Odchylenie standardowe cholesterolu w surowicy krwi w mg/dl u grupy kontrolnej: 66.8485990712058\n",
      "Odchylenie standardowe cholesterolu w surowicy krwi w mg/dl u kobiet z chorobami serca: 60.24136329995573\n",
      "Odchylenie standardowe spoczynkowego ciśnienie krwi u grupy kontrolnej: 17.389756413415164\n",
      "Odchylenie standardowe spoczynkowego ciśnienie krwi u kobiet z chorobami serca: 21.655566942580347\n"
     ]
    }
   ],
   "source": [
    "print(f\"Średnie maksymalne tętno u grupy kontrolnej: {mean_thalach_women0}\")\n",
    "print(f\"Średnie maksymalne tętno u kobiet z chorobami serca: {mean_thalach_women1234}\")\n",
    "\n",
    "print(f\"Średni cholesterol w surowicy krwi w mg/dl u grupy kontrolnej: {mean_chol_women0}\")\n",
    "print(f\"Średni cholesterol w surowicy krwi w mg/dl u kobiet z chorobami serca: {mean_chol_women1234}\")\n",
    "\n",
    "print(f\"Średnie spoczynkowe ciśnienie krwi u grupy kontrolnej: {mean_trestbps_women0}\")\n",
    "print(f\"Średnie spoczynkowe ciśnienie krwi u kobiet z chorobami serca: {mean_trestbps_women1234}\")\n",
    "\n",
    "print()\n",
    "\n",
    "print(f\"Wariancja maksymalnego tętno u grupy kontrolnej: {var_thalach_women0}\")\n",
    "print(f\"Wariancja maksymalnego tętno u kobiet z chorobami serca: {var_thalach_women1234}\")\n",
    "\n",
    "print(f\"Wariancja cholesterolu w surowicy krwi w mg/dl u grupy kontrolnej: {var_chol_women0}\")\n",
    "print(f\"Wariancja cholesterolu w surowicy krwi w mg/dl u kobiet z chorobami serca: {var_chol_women1234}\")\n",
    "\n",
    "print(f\"Wariancja spoczynkowego ciśnienie krwi u grupy kontrolnej: {var_trestbps_women0}\")\n",
    "print(f\"Wariancja spoczynkowego ciśnienie krwi u kobiet z chorobami serca: {var_trestbps_women1234}\")\n",
    "\n",
    "print()\n",
    "\n",
    "print(f\"Odchylenie standardowe maksymalnego tętno u grupy kontrolnej: {std_thalach_women0}\")\n",
    "print(f\"Odchylenie standardowe maksymalnego tętno u kobiet z chorobami serca: {std_thalach_women1234}\")\n",
    "\n",
    "print(f\"Odchylenie standardowe cholesterolu w surowicy krwi w mg/dl u grupy kontrolnej: {std_chol_women0}\")\n",
    "print(f\"Odchylenie standardowe cholesterolu w surowicy krwi w mg/dl u kobiet z chorobami serca: {std_chol_women1234}\")\n",
    "\n",
    "print(f\"Odchylenie standardowe spoczynkowego ciśnienie krwi u grupy kontrolnej: {std_trestbps_women0}\")\n",
    "print(f\"Odchylenie standardowe spoczynkowego ciśnienie krwi u kobiet z chorobami serca: {std_trestbps_women1234}\")"
   ]
  },
  {
   "cell_type": "code",
   "execution_count": 44,
   "id": "9fddd887",
   "metadata": {},
   "outputs": [
    {
     "data": {
      "image/png": "[encoded data removed]",
      "text/plain": [
       "<Figure size 432x288 with 1 Axes>"
      ]
     },
     "metadata": {
      "needs_background": "light"
     },
     "output_type": "display_data"
    }
   ],
   "source": [
    "data = [thalach_men0, thalach_men1234]\n",
    "fig, ax = plt.subplots()\n",
    "ax.boxplot(data)\n",
    "plt.title(\"Maksymalne tętno w uderzeniach na minutę\")\n",
    "plt.xticks([1,2], [\"grupa kontrolna\", \"mężczyźni z chorobami serca\"])\n",
    "plt.show()"
   ]
  },
  {
   "cell_type": "code",
   "execution_count": 45,
   "id": "058356ec",
   "metadata": {},
   "outputs": [
    {
     "data": {
      "image/png": "[encoded data removed]",
      "text/plain": [
       "<Figure size 432x288 with 1 Axes>"
      ]
     },
     "metadata": {
      "needs_background": "light"
     },
     "output_type": "display_data"
    }
   ],
   "source": [
    "data = [thalach_women0, thalach_women1234]\n",
    "fig, ax = plt.subplots()\n",
    "ax.boxplot(data)\n",
    "plt.title(\"Maksymalne tętno w uderzeniach na minutę\")\n",
    "plt.xticks([1,2], [\"grupa kontrolna\", \"kobiety z chorobami serca\"])\n",
    "plt.show()"
   ]
  },
  {
   "cell_type": "code",
   "execution_count": 46,
   "id": "2b2a8f1e",
   "metadata": {},
   "outputs": [
    {
     "data": {
      "image/png": "[encoded data removed]",
      "text/plain": [
       "<Figure size 432x288 with 1 Axes>"
      ]
     },
     "metadata": {
      "needs_background": "light"
     },
     "output_type": "display_data"
    }
   ],
   "source": [
    "data = [chol_men0, chol_men1234]\n",
    "fig, ax = plt.subplots()\n",
    "ax.boxplot(data)\n",
    "plt.title(\"Cholesterol w surowicy krwi w mg/dl\")\n",
    "plt.xticks([1,2], [\"grupa kontrolna\", \"mężczyźni z chorobami serca\"])\n",
    "plt.show()"
   ]
  },
  {
   "cell_type": "code",
   "execution_count": 47,
   "id": "3ee78d47",
   "metadata": {},
   "outputs": [
    {
     "data": {
      "image/png": "[encoded data removed]",
      "text/plain": [
       "<Figure size 432x288 with 1 Axes>"
      ]
     },
     "metadata": {
      "needs_background": "light"
     },
     "output_type": "display_data"
    }
   ],
   "source": [
    "data = [chol_women0, chol_women1234]\n",
    "fig, ax = plt.subplots()\n",
    "ax.boxplot(data)\n",
    "plt.title(\"Cholesterol w surowicy krwi w mg/dl\")\n",
    "plt.xticks([1,2], [\"grupa kontrolna\", \"kobiety z chorobami serca\"])\n",
    "plt.show()"
   ]
  },
  {
   "cell_type": "code",
   "execution_count": 48,
   "id": "400802a0",
   "metadata": {},
   "outputs": [
    {
     "data": {
      "image/png": "[encoded data removed]",
      "text/plain": [
       "<Figure size 432x288 with 1 Axes>"
      ]
     },
     "metadata": {
      "needs_background": "light"
     },
     "output_type": "display_data"
    }
   ],
   "source": [
    "data = [trestbps_men0, trestbps_men1234]\n",
    "fig, ax = plt.subplots()\n",
    "ax.boxplot(data)\n",
    "plt.title(\"Spoczynkowe ciśnienie krwi w mmHg\")\n",
    "plt.xticks([1,2], [\"grupa kontrolna\", \"mężczyźni z chorobami serca\"])\n",
    "plt.show()"
   ]
  },
  {
   "cell_type": "code",
   "execution_count": 49,
   "id": "be687ded",
   "metadata": {},
   "outputs": [
    {
     "data": {
      "image/png": "[encoded data removed]",
      "text/plain": [
       "<Figure size 432x288 with 1 Axes>"
      ]
     },
     "metadata": {
      "needs_background": "light"
     },
     "output_type": "display_data"
    }
   ],
   "source": [
    "data = [trestbps_women0, trestbps_women1234]\n",
    "fig, ax = plt.subplots()\n",
    "ax.boxplot(data)\n",
    "plt.title(\"Spoczynkowe ciśnienie krwi w mmHg\")\n",
    "plt.xticks([1,2], [\"grupa kontrolna\", \"kobiety z chorobami serca\"])\n",
    "plt.show()"
   ]
  },
  {
   "cell_type": "markdown",
   "id": "c60258a3",
   "metadata": {},
   "source": [
    "Różnice w badanych parametrach pomiędzy kobietami i mężczyznami w grupie osób z chorobami serca oraz pomiędzy grupą badaną i kontrolną.\n",
    "\n",
    "Zastosowano test Manna-Whitney’a.\n",
    "Uzyskano następujące wyniki testu:\n"
   ]
  },
  {
   "cell_type": "code",
   "execution_count": 50,
   "id": "7a2c040c",
   "metadata": {},
   "outputs": [],
   "source": [
    "_, thalach_mannwhitneyu =  mannwhitneyu(thalach_men1234, thalach_women1234)\n",
    "_, chol_mannwhitneyu =  mannwhitneyu(chol_men1234, chol_women1234)\n",
    "_, trestbps_mannwhitneyu =  mannwhitneyu(trestbps_men1234, trestbps_women1234)\n",
    "\n",
    "_, thalach_mannwhitneyu_men =  mannwhitneyu(thalach_men0, thalach_men1234)\n",
    "_, chol_mannwhitneyu_men =  mannwhitneyu(chol_men0, chol_men1234)\n",
    "_, trestbps_mannwhitneyu_men =  mannwhitneyu(trestbps_men0, trestbps_men1234)\n",
    "\n",
    "_, thalach_mannwhitneyu_women =  mannwhitneyu(thalach_women0, thalach_women1234)\n",
    "_, chol_mannwhitneyu_women =  mannwhitneyu(chol_women0, chol_women1234)\n",
    "_, trestbps_mannwhitneyu_women =  mannwhitneyu(trestbps_women0, trestbps_women1234)"
   ]
  },
  {
   "cell_type": "code",
   "execution_count": 51,
   "id": "015486a4",
   "metadata": {},
   "outputs": [
    {
     "name": "stdout",
     "output_type": "stream",
     "text": [
      "Porównanie maksymalnego tętna u kobiet i mężczyzn: 0.048010767901179946\n",
      "Porównanie maksymalnego tętna u kobiet z grupy kontrolnej oraz cierpiących na choroby serca: 0.23211914673144696\n",
      "Porównanie maksymalnego tętna u mężczyzn z grupy kontrolnej oraz cierpiących na choroby serca: 1.8298218708779132e-06\n",
      "\n",
      "Porównanie spoczynkowego ciśnienia krwi u kobiet i mężczyzn: 0.03475474625491099\n",
      "Porównanie spoczynkowego ciśnienia krwi u kobiet z grupy kontrolnej oraz cierpiących na choroby serca: 0.035375399747754284\n",
      "Porównanie spoczynkowego ciśnienia krwi u mężczyzn z grupy kontrolnej oraz cierpiących na choroby serca: 0.8109759853488819\n",
      "\n",
      "Porównanie ilości cholesterol w surowicy krwi u kobiet i mężczyzn: 0.048010767901179946\n",
      "Porównanie ilości cholesterol w surowicy krwi u kobiet z grupy kontrolnej oraz cierpiących na choroby serca: 0.2500991580848996\n",
      "Porównanie ilości cholesterol w surowicy krwi u mężczyzn z grupy kontrolnej oraz cierpiących na choroby serca: 0.07757038425688405\n"
     ]
    }
   ],
   "source": [
    "print(f\"Porównanie maksymalnego tętna u kobiet i mężczyzn: {thalach_mannwhitneyu}\")\n",
    "print(f\"Porównanie maksymalnego tętna u kobiet z grupy kontrolnej oraz cierpiących na choroby serca: {thalach_mannwhitneyu_women}\")\n",
    "print(f\"Porównanie maksymalnego tętna u mężczyzn z grupy kontrolnej oraz cierpiących na choroby serca: {thalach_mannwhitneyu_men}\")\n",
    "print()\n",
    "print(f\"Porównanie spoczynkowego ciśnienia krwi u kobiet i mężczyzn: {trestbps_mannwhitneyu}\")\n",
    "print(f\"Porównanie spoczynkowego ciśnienia krwi u kobiet z grupy kontrolnej oraz cierpiących na choroby serca: {trestbps_mannwhitneyu_women}\")\n",
    "print(f\"Porównanie spoczynkowego ciśnienia krwi u mężczyzn z grupy kontrolnej oraz cierpiących na choroby serca: {trestbps_mannwhitneyu_men}\")\n",
    "print()\n",
    "print(f\"Porównanie ilości cholesterol w surowicy krwi u kobiet i mężczyzn: {thalach_mannwhitneyu}\")\n",
    "print(f\"Porównanie ilości cholesterol w surowicy krwi u kobiet z grupy kontrolnej oraz cierpiących na choroby serca: {chol_mannwhitneyu_women}\")\n",
    "print(f\"Porównanie ilości cholesterol w surowicy krwi u mężczyzn z grupy kontrolnej oraz cierpiących na choroby serca: {chol_mannwhitneyu_men}\")"
   ]
  },
  {
   "cell_type": "markdown",
   "id": "e6d7ceea",
   "metadata": {},
   "source": [
    "<ul>\n",
    "<li>Kobiety miały niższą maksymalną częstość akcji serca  niż mężczyźni.</li>\n",
    "<li>Kobiety miały wyższe spoczynkowe ciśnienie krwi niż mężczyźni.</li>\n",
    "<li>Kobiety miały wyższe stężenia cholesterolu w surowicy krwi niż mężczyźni. </li>\n",
    "<li>Kobiety z chorobami serca miały niemalże równą maksymalną częstość akcji serca  co kobiety z grupy kontrolnej. </li>\n",
    "<li>Kobiety z chorobami serca miały wyższe spoczynkowe ciśnienie krwi niż kobiety z grupy kontrolnej. </li>\n",
    "<li>Kobiety z chorobami serca miały niemalże równe stężenia cholesterolu w surowicy krwi co kobiety z grupy kontrolnej. </li>\n",
    "<li>Mężczyźni z chorobami serca miały niższą maksymalną częstość akcji serca  niż mężczyźni z grupy kontrolnej. </li>\n",
    "<li>Mężczyźni z chorobami serca miały niemalże równe spoczynkowe ciśnienie krwi co mężczyźni z grupy kontrolnej. </li>\n",
    "<li>Mężczyźni z chorobami serca miały wyższe stężenia cholesterolu w surowicy krwi niż mężczyźni z grupy kontrolnej.</li>\n",
    "</ul>\n",
    "\n"
   ]
  },
  {
   "cell_type": "markdown",
   "id": "27ef0429",
   "metadata": {},
   "source": [
    "Zależność pomiędzy badanymi parametrami osób z chorobami serca w zależności od wieku\n",
    "Zastosowano korelacja Spearmana.\n",
    "\n",
    "Uzyskano następujące wyniki korelacji:"
   ]
  },
  {
   "cell_type": "code",
   "execution_count": 52,
   "id": "73821ffc",
   "metadata": {},
   "outputs": [],
   "source": [
    "age2 = []\n",
    "thalach = []\n",
    "chol = []\n",
    "trestbps = []\n",
    "for key, value in age.items():\n",
    "    n = len(value)\n",
    "    if n==0:continue\n",
    "    for i in range(n):\n",
    "        age2.append(key)\n",
    "        trestbps.append(value[i][2])\n",
    "        chol.append(value[i][3])\n",
    "        thalach.append(value[i][4])\n",
    "\n",
    "thalach_spearman = spearmanr(age2, thalach) # jest istotna zależność\n",
    "chol_spearman = spearmanr(age2, chol)\n",
    "trestbps_spearman = spearmanr(age2, trestbps) # jest istotna zależność\n",
    "# print(thalach_spearman)\n",
    "# print(chol_spearman)\n",
    "# print(trestbps_spearman)"
   ]
  },
  {
   "cell_type": "markdown",
   "id": "d9c467e9",
   "metadata": {},
   "source": [
    "<ul>\n",
    "<li>Stwierdzono korelację pomiędzy maksymalną częstością akcji serca w grupie osób z chorobami serca a wiekiem.</li>\n",
    "<li>Stwierdzono korelację pomiędzy spoczynkowym ciśnieniem krwi w grupie osób z chorobami serca a wiekiem.\n",
    "</li>\n",
    "<li>Stwierdzono brak korelacji pomiędzy stężeniem cholesterolu w surowicy krwi w grupie osób z chorobami serca a wiekiem. </li>\n",
    "</ul>\n",
    "\n"
   ]
  },
  {
   "cell_type": "markdown",
   "id": "719feeae",
   "metadata": {},
   "source": [
    "Estymowanie prawdopodobieństwa choroby serca  przy znanych badanych parametrach w grupie osób z chorobami serca i grupie kontrolnej.\n",
    "\n",
    "Regresja logistyczna\n"
   ]
  },
  {
   "cell_type": "code",
   "execution_count": 53,
   "id": "68a4c3d2",
   "metadata": {},
   "outputs": [],
   "source": [
    "file = open(\"file.csv\", \"w\")\n",
    "header = [\"age\", \"sex\", \"trestbps\", \"chol\", \"thalach\", \"ca\"]\n",
    "writer  = csv.writer(file)\n",
    "writer.writerow(header)\n",
    "writer.writerows(rows)\n",
    "file.close()"
   ]
  },
  {
   "cell_type": "code",
   "execution_count": 54,
   "id": "09e99c02",
   "metadata": {},
   "outputs": [
    {
     "data": {
      "text/plain": [
       "<AxesSubplot:xlabel='thalach', ylabel='ca'>"
      ]
     },
     "execution_count": 54,
     "metadata": {},
     "output_type": "execute_result"
    },
    {
     "data": {
      "image/png": "[encoded data removed]",
      "text/plain": [
       "<Figure size 432x288 with 1 Axes>"
      ]
     },
     "metadata": {
      "needs_background": "light"
     },
     "output_type": "display_data"
    }
   ],
   "source": [
    "data = pd.read_csv(r\"file.csv\")\n",
    "x = data[\"thalach\"]\n",
    "y = data[\"ca\"]\n",
    "\n",
    "y = y.replace(2,1)\n",
    "y = y.replace(3,1)\n",
    "y = y.replace(4,1)\n",
    "\n",
    "sns.regplot(x=x, y=y, data=data, logistic=True, ci=None)"
   ]
  },
  {
   "cell_type": "code",
   "execution_count": 55,
   "id": "a7aabbba",
   "metadata": {},
   "outputs": [
    {
     "data": {
      "text/plain": [
       "<AxesSubplot:xlabel='chol', ylabel='ca'>"
      ]
     },
     "execution_count": 55,
     "metadata": {},
     "output_type": "execute_result"
    },
    {
     "data": {
      "image/png": "[encoded data removed]",
      "text/plain": [
       "<Figure size 432x288 with 1 Axes>"
      ]
     },
     "metadata": {
      "needs_background": "light"
     },
     "output_type": "display_data"
    }
   ],
   "source": [
    "data = pd.read_csv(r\"file.csv\")\n",
    "x = data[\"chol\"]\n",
    "y = data[\"ca\"]\n",
    "\n",
    "y = y.replace(2,1)\n",
    "y = y.replace(3,1)\n",
    "y = y.replace(4,1)\n",
    "\n",
    "sns.regplot(x=x, y=y, data=data, logistic=True, ci=None)"
   ]
  },
  {
   "cell_type": "code",
   "execution_count": 56,
   "id": "9e1f5a1b",
   "metadata": {},
   "outputs": [
    {
     "data": {
      "text/plain": [
       "<AxesSubplot:xlabel='trestbps', ylabel='ca'>"
      ]
     },
     "execution_count": 56,
     "metadata": {},
     "output_type": "execute_result"
    },
    {
     "data": {
      "image/png": "[encoded data removed]",
      "text/plain": [
       "<Figure size 432x288 with 1 Axes>"
      ]
     },
     "metadata": {
      "needs_background": "light"
     },
     "output_type": "display_data"
    }
   ],
   "source": [
    "data = pd.read_csv(r\"file.csv\")\n",
    "x = data[\"trestbps\"]\n",
    "y = data[\"ca\"]\n",
    "\n",
    "y = y.replace(2,1)\n",
    "y = y.replace(3,1)\n",
    "y = y.replace(4,1)\n",
    "\n",
    "sns.regplot(x=x, y=y, data=data, logistic=True, ci=None)"
   ]
  },
  {
   "cell_type": "markdown",
   "id": "9e7b2301",
   "metadata": {},
   "source": [
    "Wnioski\n",
    "\n",
    "Wyniki pracy pokazały, że żaden z rozkładów badanych parametrów nie był rozkładem normalnym ani dla grupy kontrolnej ani dla grupy z chorobami serca. Zaobserwowano korelację między maksymalną częstością akcji serca w grupie osób z chorobami serca a wiekiem oraz między spoczynkowym ciśnieniem krwi w grupie osób z chorobami serca a wiekiem. "
   ]
  }
 ],
 "metadata": {
  "kernelspec": {
   "display_name": "Python 3 (ipykernel)",
   "language": "python",
   "name": "python3"
  },
  "language_info": {
   "codemirror_mode": {
    "name": "ipython",
    "version": 3
   },
   "file_extension": ".py",
   "mimetype": "text/x-python",
   "name": "python",
   "nbconvert_exporter": "python",
   "pygments_lexer": "ipython3",
   "version": "3.8.10"
  }
 },
 "nbformat": 4,
 "nbformat_minor": 5
}
